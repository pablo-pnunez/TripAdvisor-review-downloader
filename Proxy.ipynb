{
 "cells": [
  {
   "cell_type": "code",
   "execution_count": 18,
   "metadata": {},
   "outputs": [],
   "source": [
    "import requests\n",
    "import json\n",
    "\n",
    "reqUrl = \"https://www.tripadvisor.es/data/graphql/ids\"\n",
    "\n",
    "headersList = {\n",
    " \"authority\": \"www.tripadvisor.es\",\n",
    " \"accept\": \"*/*\",\n",
    " \"accept-language\": \"es,en;q=0.9,ca;q=0.8\",\n",
    " \"cache-control\": \"no-cache\",\n",
    " \"content-type\": \"application/json\",\n",
    " \"referer\": \"https://www.tripadvisor.es/\",\n",
    " \"user-agent\": \"Mozilla/5.0 (Windows NT 10.0; Win64; x64) AppleWebKit/537.36 (KHTML, like Gecko) Chrome/114.0.0.0 Safari/537.36\",\n",
    " \"x-requested-by\": \"86ba979885755fbeba189a1d7e3fc821c0becbb5849808d2bca63effca9ffc19\" \n",
    "}\n",
    "\n",
    "payload = json.dumps([\n",
    "  {\n",
    "    \"query\": \"5eec1d8288aa8741918a2a5051d289ef\",\n",
    "    \"variables\": {\n",
    "      \"request\": {\n",
    "        \"query\": \"Boal, asturias\",\n",
    "        \"scope\": \"WORLDWIDE\",\n",
    "        \"locale\": \"es-ES\",\n",
    "        \"types\": [\n",
    "          \"LOCATION\"\n",
    "        ],\n",
    "        \"locationTypes\": [\n",
    "          \"GEO\"\n",
    "        ]\n",
    "      }\n",
    "    }\n",
    "  }\n",
    "])\n",
    "\n",
    "response = requests.request(\"POST\", reqUrl, data=payload,  headers=headersList)\n",
    "\n",
    "print(response.text)"
   ]
  },
  {
   "attachments": {},
   "cell_type": "markdown",
   "metadata": {},
   "source": []
  }
 ],
 "metadata": {
  "kernelspec": {
   "display_name": "TripAdvisorDownload",
   "language": "python",
   "name": "python3"
  },
  "language_info": {
   "codemirror_mode": {
    "name": "ipython",
    "version": 3
   },
   "file_extension": ".py",
   "mimetype": "text/x-python",
   "name": "python",
   "nbconvert_exporter": "python",
   "pygments_lexer": "ipython3",
   "version": "3.9.16"
  },
  "orig_nbformat": 4
 },
 "nbformat": 4,
 "nbformat_minor": 2
}
