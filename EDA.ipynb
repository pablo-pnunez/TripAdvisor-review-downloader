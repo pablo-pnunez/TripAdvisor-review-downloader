{
  "cells": [
    {
      "cell_type": "code",
      "execution_count": 1,
      "metadata": {
        "id": "QKSZp7s7c0eA"
      },
      "outputs": [],
      "source": [
        "import pandas as pd\n",
        "import numpy as np"
      ]
    },
    {
      "attachments": {},
      "cell_type": "markdown",
      "metadata": {
        "id": "knITswaNbNGL"
      },
      "source": [
        "## Intersección de usuarios (**con imágenes**) entre ciudades para domain adaptation"
      ]
    },
    {
      "cell_type": "code",
      "execution_count": 2,
      "metadata": {},
      "outputs": [
        {
          "name": "stdout",
          "output_type": "stream",
          "text": [
            "          \titems\treviews\tusers\n",
            "gijon     \t840\t80753\t41980\n",
            "barcelona \t9523\t1438248\t771555\n",
            "warsaw    \t3606\t197274\t108006\n",
            "budapest  \t3869\t565005\t330198\n",
            "hamburg   \t3287\t190865\t102362\n",
            "vienna    \t4801\t490952\t250106\n",
            "bucharest \t2614\t143560\t82002\n",
            "newyork   \t10129\t1256917\t572848\n",
            "paris     \t16937\t2126379\t1029499\n",
            "rome      \t11649\t2887380\t1334951\n",
            "madrid    \t11456\t1348056\t625869\n",
            "berlin    \t7452\t574100\t309859\n",
            "london    \t21266\t2956339\t1455474\n"
          ]
        }
      ],
      "source": [
        "cities = [\"Gijon\", \"Barcelona\", \"Warsaw\", \"Budapest\", \"Hamburg\", \"Vienna\", \"Bucharest\", \"New York\", \"Paris\", \"Rome\", \"Madrid\", \"Berlin\", \"London\"]\n",
        "\n",
        "cities_data = {}\n",
        "\n",
        "print(f\"{'':10s}\\titems\\treviews\\tusers\")\n",
        "\n",
        "for city in cities:\n",
        "    city = city.lower().replace(\" \", \"\")\n",
        "    city_path = f\"out/{city}\"\n",
        "    category_path = f\"{city_path}/restaurants\"\n",
        "\n",
        "    item_path = f\"{category_path}/items.pkl\"\n",
        "    review_path = f\"{category_path}/reviews.pkl\"\n",
        "    user_path = f\"{category_path}/users.pkl\"\n",
        "\n",
        "    items = pd.read_pickle(item_path)\n",
        "    reviews = pd.read_pickle(review_path)\n",
        "    users = pd.read_pickle(user_path)\n",
        "\n",
        "    reviews[\"n_images\"] = reviews[\"images\"].apply(lambda x: len(x))\n",
        "    users_with_images = reviews.loc[reviews.n_images>0][\"userId\"].unique()\n",
        "\n",
        "    cities_data[city]={\"items\":items, \"reviews\":reviews, \"users\":users, \"users_images\":users_with_images}\n",
        "\n",
        "    print(f\"{city:10s}\\t{len(items)}\\t{len(reviews)}\\t{len(users)}\")"
      ]
    },
    {
      "cell_type": "code",
      "execution_count": 3,
      "metadata": {},
      "outputs": [
        {
          "name": "stdout",
          "output_type": "stream",
          "text": [
            "city\tgijon\tbarcelona\twarsaw\tbudapest\thamburg\tvienna\tbucharest\tnewyork\tparis\trome\tmadrid\tberlin\tlondon\n",
            "gijon\t10070\t661\t51\t157\t26\t131\t32\t182\t252\t407\t1911\t165\t266\t\n",
            "barcelona\t661\t178220\t1293\t3868\t1101\t3489\t863\t5251\t9565\t10658\t11361\t3955\t8907\t\n",
            "warsaw\t51\t1293\t25988\t1422\t308\t1093\t521\t736\t1238\t1661\t1082\t1243\t1507\t\n",
            "budapest\t157\t3868\t1422\t81719\t674\t5253\t1102\t2318\t3978\t5365\t3038\t3028\t4834\t\n",
            "hamburg\t26\t1101\t308\t674\t20043\t1169\t161\t778\t1153\t1019\t673\t2402\t1356\t\n",
            "vienna\t131\t3489\t1093\t5253\t1169\t55469\t800\t2329\t4126\t4874\t2780\t3349\t4309\t\n",
            "bucharest\t32\t863\t521\t1102\t161\t800\t20430\t498\t915\t1411\t754\t651\t1091\t\n",
            "newyork\t182\t5251\t736\t2318\t778\t2329\t498\t98832\t7510\t6527\t4114\t2797\t9036\t\n",
            "paris\t252\t9565\t1238\t3978\t1153\t4126\t915\t7510\t184542\t11711\t6298\t4355\t12981\t\n",
            "rome\t407\t10658\t1661\t5365\t1019\t4874\t1411\t6527\t11711\t281425\t7835\t4736\t10619\t\n",
            "madrid\t1911\t11361\t1082\t3038\t673\t2780\t754\t4114\t6298\t7835\t139702\t3099\t6073\t\n",
            "berlin\t165\t3955\t1243\t3028\t2402\t3349\t651\t2797\t4355\t4736\t3099\t62240\t5122\t\n",
            "london\t266\t8907\t1507\t4834\t1356\t4309\t1091\t9036\t12981\t10619\t6073\t5122\t233318\t\n"
          ]
        }
      ],
      "source": [
        "city_names = \"\\t\".join(cities_data.keys())\n",
        "print(f'city\\t{city_names}')\n",
        "      \n",
        "for c_urs in cities_data.keys():\n",
        "  print(c_urs, end=\"\\t\")\n",
        "  for o_urs in cities_data.keys():\n",
        "    c_data = set(cities_data[c_urs][\"users_images\"])\n",
        "    o_data = set(cities_data[o_urs][\"users_images\"])\n",
        "    print(len(c_data.intersection(o_data)), end=\"\\t\")\n",
        "  print()"
      ]
    },
    {
      "cell_type": "code",
      "execution_count": null,
      "metadata": {
        "colab": {
          "base_uri": "https://localhost:8080/"
        },
        "id": "UQAW8lurbMyn",
        "outputId": "8a105a57-46f4-4ee0-c3ca-1417a60ce800"
      },
      "outputs": [
        {
          "name": "stdout",
          "output_type": "stream",
          "text": [
            "26450\t184307\t246618\t430083\t463097\t1037844\n"
          ]
        }
      ],
      "source": [
        "data_path = \"/content/drive/Shareddrives/DataSets/TripAdvisor/\"\n",
        "\n",
        "usrs_gjn = set(pd.read_pickle(f\"{data_path}gijon/users.pkl\")[\"id\"].unique())\n",
        "usrs_bcn = set(pd.read_pickle(f\"{data_path}barcelona/users.pkl\")[\"id\"].unique())\n",
        "usrs_mdr = set(pd.read_pickle(f\"{data_path}madrid/users.pkl\")[\"id\"].unique())\n",
        "usrs_prs = set(pd.read_pickle(f\"{data_path}paris/users.pkl\")[\"id\"].unique())\n",
        "usrs_nyc = set(pd.read_pickle(f\"{data_path}newyorkcity/users.pkl\")[\"id\"].unique())\n",
        "usrs_lnd = set(pd.read_pickle(f\"{data_path}london/users.pkl\")[\"id\"].unique())\n",
        "\n",
        "print(f\"{len(usrs_gjn)}\\t{len(usrs_bcn)}\\t{len(usrs_mdr)}\\t{len(usrs_nyc)}\\t{len(usrs_prs)}\\t{len(usrs_lnd)}\")"
      ]
    },
    {
      "cell_type": "code",
      "execution_count": null,
      "metadata": {
        "colab": {
          "base_uri": "https://localhost:8080/"
        },
        "id": "WnwVbv4vr7t7",
        "outputId": "07ebc2f1-49de-4786-8af1-0c646850729f"
      },
      "outputs": [
        {
          "name": "stdout",
          "output_type": "stream",
          "text": [
            "26450\t2131\t6298\t20\t52\t93\t\n",
            "2131\t184307\t22760\t307\t708\t1276\t\n",
            "6298\t22760\t246618\t292\t984\t1641\t\n",
            "20\t307\t292\t463097\t1685\t3251\t\n",
            "52\t708\t984\t1685\t430083\t59238\t\n",
            "93\t1276\t1641\t3251\t59238\t1037844\t\n"
          ]
        }
      ],
      "source": [
        "users = [usrs_gjn, usrs_bcn, usrs_mdr, usrs_prs, usrs_nyc, usrs_lnd]\n",
        "\n",
        "for c_urs in users:\n",
        "  for o_urs in users:\n",
        "    print(len(c_urs.intersection(o_urs)), end=\"\\t\")\n",
        "  print()"
      ]
    },
    {
      "cell_type": "markdown",
      "metadata": {
        "id": "6IBuNwpbrXoO"
      },
      "source": [
        "|         | **GJN** | **BCN** | **MDR** | **NYC** | **PRS** | **LND** |\n",
        "|---------|:-------:|:-------:|:-------:|:-------:|:-------:|:-------:|\n",
        "| **GJN** |  *26450*  |   2131  |   6298  |    20   |    52   |    93   |\n",
        "| **BCN** | -    | *184307*  | 22760   | 307     | 708     | 1276    |\n",
        "| **MDR** | -    | -   | *246618*  | 292     | 984     | 1641    |\n",
        "| **NYC** | -      | -     | -     | *463097*  | 1685    | 3251    |\n",
        "| **PRS** | -      | -     | -     | -    | *430083*  | 59238   |\n",
        "| **LND** | -      | -    | -    | -    | -   | *1037844* |"
      ]
    },
    {
      "cell_type": "code",
      "execution_count": null,
      "metadata": {
        "id": "sq4lauiAIHyE"
      },
      "outputs": [],
      "source": [
        "def fotos_por_restaurante(reviews, city):\n",
        "  data = reviews.groupby(\"restaurantId\").n_img.sum().reset_index()\n",
        "  histo = sbs.histplot(data, x=\"n_img\", kde=False, bins=range(1,22,1));\n",
        "  histo.set_xticks(np.arange(1,21,1)+.5); # Etiquetas del eje X\n",
        "  labels = list(map(str,range(1,20)))+[\"≥20\"]\n",
        "  histo.set_xticklabels(labels)\n",
        "  histo.set_xlabel(\"Número de fotos\")\n",
        "  histo.set_ylabel(\"Número de restaurantes\")\n",
        "  plt.tight_layout()\n",
        "  histo.figure.savefig(f\"{city}_hist_fotos_pr_rst.pdf\")\n",
        "  plt.clf()\n",
        "  \n",
        "def fotos_por_review(reviews, city):\n",
        "  return reviews\n",
        "def fotos_por_usuario(reviews, city):\n",
        "  return reviews\n",
        "def reviews_por_restaurante(reviews, city):\n",
        "  data = reviews.groupby(\"restaurantId\").reviewId.count().reset_index()\n",
        "  data.loc[data.reviewId>=20, \"reviewId\"]=20\n",
        "\n",
        "  histo = sbs.histplot(data, x=\"reviewId\", kde=False, bins=range(1,22,1));\n",
        "  histo.set_xticks(np.arange(1,21,1)+.5); # Etiquetas del eje X\n",
        "  labels = list(map(str,range(1,20)))+[\"≥20\"]\n",
        "  histo.set_xticklabels(labels)\n",
        "  histo.set_xlabel(\"Número de reseñas\")\n",
        "  histo.set_ylabel(\"Número de restaurantes\")\n",
        "  plt.tight_layout()\n",
        "  histo.figure.savefig(f\"{city}_hist_rvws_pr_rst.pdf\")\n",
        "\n",
        "def reviews_por_usuario(reviews, city):\n",
        "  return reviews"
      ]
    },
    {
      "cell_type": "code",
      "execution_count": null,
      "metadata": {
        "id": "CiNQ0kfWgLoC"
      },
      "outputs": [],
      "source": [
        "cities = [\"gijon\", \"barcelona\", \"paris\", \"madrid\", \"newyorkcity\", \"london\"]\n",
        "# cities = [\"gijon\"]\n",
        "\n",
        "base_path = \"/content/drive/Shareddrives/Media\"\n",
        "\n",
        "for city in cities:\n",
        "  data_path = f\"/content/drive/Shareddrives/DataSets/TripAdvisor/{city}/\"\n",
        "  reviews = pd.read_pickle(data_path+\"reviews.pkl\")\n",
        "\n",
        "  # reviews[\"n_img\"] = reviews.images.apply(lambda x: len(x))\n",
        "  restaurants = pd.read_pickle(data_path+\"restaurants.pkl\")\n",
        "  users = pd.read_pickle(data_path+\"users.pkl\")\n",
        "  \n",
        "  # dates = pd.to_datetime(reviews.date, format=\"%d de %B de %Y\" )\n",
        "  # print(dates.min(), dates.max())\n",
        "\n",
        "  # n_images  = reviews.n_img.sum()\n",
        "  # dt = [city, len(reviews), len(users), len(restaurants), n_images]\n",
        "  # print(\"\\\\\"+\" & \".join(map(str, dt))+\" \\\\\\\\\")\n",
        "\n",
        "  reviews = reviews[[\"date\", \"images\", \"language\", \"rating\", \"restaurantId\", \"reviewId\", \"text\", \"title\", \"url\", \"userId\"]]\n",
        "  users = users[[\"id\", \"name\", \"location\"]]\n",
        "  restaurants = restaurants[[\"id\", \"name\", \"city\", \"priceInterval\", \"url\", \"rating\"]]\n",
        "\n",
        "  reviews.iloc[:50].to_csv(f\"{base_path}/{city}_revs.csv\", encoding=\"utf-8\")\n",
        "  users.iloc[:50].to_csv(f\"{base_path}/{city}_usrs.csv\", encoding=\"utf-8\")\n",
        "  restaurants.iloc[:50].to_csv(f\"{base_path}/{city}_rsts.csv\", encoding=\"utf-8\")"
      ]
    },
    {
      "cell_type": "code",
      "execution_count": null,
      "metadata": {
        "id": "mi40lyilgUf7"
      },
      "outputs": [],
      "source": [
        "reviews[\"text\"] = reviews.text.str.lower().str.split(\" \")"
      ]
    },
    {
      "cell_type": "code",
      "execution_count": null,
      "metadata": {
        "colab": {
          "base_uri": "https://localhost:8080/",
          "height": 312
        },
        "id": "hS7xbwP7ggy2",
        "outputId": "d0d1d16b-e772-4f28-ba34-39616d08bbdd"
      },
      "outputs": [
        {
          "ename": "AttributeError",
          "evalue": "ignored",
          "output_type": "error",
          "traceback": [
            "\u001b[0;31m---------------------------------------------------------------------------\u001b[0m",
            "\u001b[0;31mAttributeError\u001b[0m                            Traceback (most recent call last)",
            "\u001b[0;32m<ipython-input-5-ad45e8d5fc96>\u001b[0m in \u001b[0;36m<module>\u001b[0;34m\u001b[0m\n\u001b[0;32m----> 1\u001b[0;31m \u001b[0mreviews\u001b[0m\u001b[0;34m.\u001b[0m\u001b[0mtext\u001b[0m\u001b[0;34m.\u001b[0m\u001b[0mstr\u001b[0m\u001b[0;34m.\u001b[0m\u001b[0mlower\u001b[0m\u001b[0;34m(\u001b[0m\u001b[0;34m)\u001b[0m\u001b[0;34m.\u001b[0m\u001b[0mstr\u001b[0m\u001b[0;34m.\u001b[0m\u001b[0mcontains\u001b[0m\u001b[0;34m(\u001b[0m\u001b[0;34m\"definitivas\"\u001b[0m\u001b[0;34m)\u001b[0m\u001b[0;34m.\u001b[0m\u001b[0mvalue_counts\u001b[0m\u001b[0;34m(\u001b[0m\u001b[0;34m)\u001b[0m\u001b[0;34m\u001b[0m\u001b[0;34m\u001b[0m\u001b[0m\n\u001b[0m",
            "\u001b[0;32m/usr/local/lib/python3.8/dist-packages/pandas/core/generic.py\u001b[0m in \u001b[0;36m__getattr__\u001b[0;34m(self, name)\u001b[0m\n\u001b[1;32m   5485\u001b[0m         ):\n\u001b[1;32m   5486\u001b[0m             \u001b[0;32mreturn\u001b[0m \u001b[0mself\u001b[0m\u001b[0;34m[\u001b[0m\u001b[0mname\u001b[0m\u001b[0;34m]\u001b[0m\u001b[0;34m\u001b[0m\u001b[0;34m\u001b[0m\u001b[0m\n\u001b[0;32m-> 5487\u001b[0;31m         \u001b[0;32mreturn\u001b[0m \u001b[0mobject\u001b[0m\u001b[0;34m.\u001b[0m\u001b[0m__getattribute__\u001b[0m\u001b[0;34m(\u001b[0m\u001b[0mself\u001b[0m\u001b[0;34m,\u001b[0m \u001b[0mname\u001b[0m\u001b[0;34m)\u001b[0m\u001b[0;34m\u001b[0m\u001b[0;34m\u001b[0m\u001b[0m\n\u001b[0m\u001b[1;32m   5488\u001b[0m \u001b[0;34m\u001b[0m\u001b[0m\n\u001b[1;32m   5489\u001b[0m     \u001b[0;32mdef\u001b[0m \u001b[0m__setattr__\u001b[0m\u001b[0;34m(\u001b[0m\u001b[0mself\u001b[0m\u001b[0;34m,\u001b[0m \u001b[0mname\u001b[0m\u001b[0;34m:\u001b[0m \u001b[0mstr\u001b[0m\u001b[0;34m,\u001b[0m \u001b[0mvalue\u001b[0m\u001b[0;34m)\u001b[0m \u001b[0;34m->\u001b[0m \u001b[0;32mNone\u001b[0m\u001b[0;34m:\u001b[0m\u001b[0;34m\u001b[0m\u001b[0;34m\u001b[0m\u001b[0m\n",
            "\u001b[0;32m/usr/local/lib/python3.8/dist-packages/pandas/core/accessor.py\u001b[0m in \u001b[0;36m__get__\u001b[0;34m(self, obj, cls)\u001b[0m\n\u001b[1;32m    179\u001b[0m             \u001b[0;31m# we're accessing the attribute of the class, i.e., Dataset.geo\u001b[0m\u001b[0;34m\u001b[0m\u001b[0;34m\u001b[0m\u001b[0;34m\u001b[0m\u001b[0m\n\u001b[1;32m    180\u001b[0m             \u001b[0;32mreturn\u001b[0m \u001b[0mself\u001b[0m\u001b[0;34m.\u001b[0m\u001b[0m_accessor\u001b[0m\u001b[0;34m\u001b[0m\u001b[0;34m\u001b[0m\u001b[0m\n\u001b[0;32m--> 181\u001b[0;31m         \u001b[0maccessor_obj\u001b[0m \u001b[0;34m=\u001b[0m \u001b[0mself\u001b[0m\u001b[0;34m.\u001b[0m\u001b[0m_accessor\u001b[0m\u001b[0;34m(\u001b[0m\u001b[0mobj\u001b[0m\u001b[0;34m)\u001b[0m\u001b[0;34m\u001b[0m\u001b[0;34m\u001b[0m\u001b[0m\n\u001b[0m\u001b[1;32m    182\u001b[0m         \u001b[0;31m# Replace the property with the accessor object. Inspired by:\u001b[0m\u001b[0;34m\u001b[0m\u001b[0;34m\u001b[0m\u001b[0;34m\u001b[0m\u001b[0m\n\u001b[1;32m    183\u001b[0m         \u001b[0;31m# https://www.pydanny.com/cached-property.html\u001b[0m\u001b[0;34m\u001b[0m\u001b[0;34m\u001b[0m\u001b[0;34m\u001b[0m\u001b[0m\n",
            "\u001b[0;32m/usr/local/lib/python3.8/dist-packages/pandas/core/strings/accessor.py\u001b[0m in \u001b[0;36m__init__\u001b[0;34m(self, data)\u001b[0m\n\u001b[1;32m    166\u001b[0m         \u001b[0;32mfrom\u001b[0m \u001b[0mpandas\u001b[0m\u001b[0;34m.\u001b[0m\u001b[0mcore\u001b[0m\u001b[0;34m.\u001b[0m\u001b[0marrays\u001b[0m\u001b[0;34m.\u001b[0m\u001b[0mstring_\u001b[0m \u001b[0;32mimport\u001b[0m \u001b[0mStringDtype\u001b[0m\u001b[0;34m\u001b[0m\u001b[0;34m\u001b[0m\u001b[0m\n\u001b[1;32m    167\u001b[0m \u001b[0;34m\u001b[0m\u001b[0m\n\u001b[0;32m--> 168\u001b[0;31m         \u001b[0mself\u001b[0m\u001b[0;34m.\u001b[0m\u001b[0m_inferred_dtype\u001b[0m \u001b[0;34m=\u001b[0m \u001b[0mself\u001b[0m\u001b[0;34m.\u001b[0m\u001b[0m_validate\u001b[0m\u001b[0;34m(\u001b[0m\u001b[0mdata\u001b[0m\u001b[0;34m)\u001b[0m\u001b[0;34m\u001b[0m\u001b[0;34m\u001b[0m\u001b[0m\n\u001b[0m\u001b[1;32m    169\u001b[0m         \u001b[0mself\u001b[0m\u001b[0;34m.\u001b[0m\u001b[0m_is_categorical\u001b[0m \u001b[0;34m=\u001b[0m \u001b[0mis_categorical_dtype\u001b[0m\u001b[0;34m(\u001b[0m\u001b[0mdata\u001b[0m\u001b[0;34m.\u001b[0m\u001b[0mdtype\u001b[0m\u001b[0;34m)\u001b[0m\u001b[0;34m\u001b[0m\u001b[0;34m\u001b[0m\u001b[0m\n\u001b[1;32m    170\u001b[0m         \u001b[0mself\u001b[0m\u001b[0;34m.\u001b[0m\u001b[0m_is_string\u001b[0m \u001b[0;34m=\u001b[0m \u001b[0misinstance\u001b[0m\u001b[0;34m(\u001b[0m\u001b[0mdata\u001b[0m\u001b[0;34m.\u001b[0m\u001b[0mdtype\u001b[0m\u001b[0;34m,\u001b[0m \u001b[0mStringDtype\u001b[0m\u001b[0;34m)\u001b[0m\u001b[0;34m\u001b[0m\u001b[0;34m\u001b[0m\u001b[0m\n",
            "\u001b[0;32m/usr/local/lib/python3.8/dist-packages/pandas/core/strings/accessor.py\u001b[0m in \u001b[0;36m_validate\u001b[0;34m(data)\u001b[0m\n\u001b[1;32m    223\u001b[0m \u001b[0;34m\u001b[0m\u001b[0m\n\u001b[1;32m    224\u001b[0m         \u001b[0;32mif\u001b[0m \u001b[0minferred_dtype\u001b[0m \u001b[0;32mnot\u001b[0m \u001b[0;32min\u001b[0m \u001b[0mallowed_types\u001b[0m\u001b[0;34m:\u001b[0m\u001b[0;34m\u001b[0m\u001b[0;34m\u001b[0m\u001b[0m\n\u001b[0;32m--> 225\u001b[0;31m             \u001b[0;32mraise\u001b[0m \u001b[0mAttributeError\u001b[0m\u001b[0;34m(\u001b[0m\u001b[0;34m\"Can only use .str accessor with string values!\"\u001b[0m\u001b[0;34m)\u001b[0m\u001b[0;34m\u001b[0m\u001b[0;34m\u001b[0m\u001b[0m\n\u001b[0m\u001b[1;32m    226\u001b[0m         \u001b[0;32mreturn\u001b[0m \u001b[0minferred_dtype\u001b[0m\u001b[0;34m\u001b[0m\u001b[0;34m\u001b[0m\u001b[0m\n\u001b[1;32m    227\u001b[0m \u001b[0;34m\u001b[0m\u001b[0m\n",
            "\u001b[0;31mAttributeError\u001b[0m: Can only use .str accessor with string values!"
          ]
        }
      ],
      "source": [
        "reviews.text.str.lower().str.contains(\"definitivas\").value_counts()"
      ]
    },
    {
      "cell_type": "code",
      "execution_count": null,
      "metadata": {
        "id": "v474M54Hcl35"
      },
      "outputs": [],
      "source": [
        "cities = {\"gijon\":0.3}#, \"barcelona\":1.6, \"madrid\":2.1, \"newyorkcity\":8.3, \"paris\":8.9, \"london\":3.2} # Ciudades con su población\n",
        "stats = []\n",
        "\n",
        "for city in cities.keys():\n",
        "  data_path = f\"/content/drive/Shareddrives/DataSets/TripAdvisor/{city}/\"\n",
        "\n",
        "  reviews = pd.read_pickle(data_path+\"reviews.pkl\")\n",
        "  # restaurants = pd.read_pickle(data_path+\"restaurants.pkl\")\n",
        "  # users = pd.read_pickle(data_path+\"users.pkl\")\n",
        "\n",
        "  reviews[\"n_img\"] = reviews.images.apply(lambda x: len(x))\n",
        "\n",
        "  n_reviews = len(reviews.reviewId.unique())\n",
        "  n_images  = reviews.n_img.sum()\n",
        "  n_users = len(reviews.userId.unique())\n",
        "  n_rest = len(reviews.restaurantId.unique())\n",
        "\n",
        "  stats.append((f\"\\{city}\", cities[city], n_reviews, n_images, n_users, n_rest))\n",
        "\n",
        "  fotos_por_restaurante(reviews, data_path+city)\n",
        "  reviews_por_restaurante(reviews, data_path+city)\n",
        "\n",
        "stats = pd.DataFrame(stats, columns=[\"Conjunto\", \"Población\", \"Reseñas\", \"Imágenes\", \"Usuarios\", \"Restaurantes\"])\n",
        "print(stats.to_latex(index=False, escape=False))"
      ]
    },
    {
      "cell_type": "code",
      "execution_count": null,
      "metadata": {
        "id": "-Rr3LW-prSyn"
      },
      "outputs": [],
      "source": [
        "data = reviews.groupby(\"restaurantId\").n_img.sum().reset_index()\n",
        "data.loc[data.n_img>=20, \"n_img\"]=20\n",
        "\n",
        "histo = sbs.histplot(data, x=\"n_img\", kde=False, bins=range(1,22,1));\n",
        "histo.set_xticks(np.arange(1,21,1)+.5); # Etiquetas del eje X\n",
        "labels = list(map(str,range(1,20)))+[\"≥20\"]\n",
        "histo.set_xticklabels(labels)\n",
        "histo.set_xlabel(\"Número de fotos\")\n",
        "histo.set_ylabel(\"Número de restaurantes\")\n",
        "plt.tight_layout()\n"
      ]
    },
    {
      "cell_type": "code",
      "execution_count": null,
      "metadata": {
        "id": "q6SFtKZEs44b"
      },
      "outputs": [],
      "source": [
        "# Datos para Bea (con menos columnas)\n",
        "data_sm = reviews[[\"reviewId\", \"userId\", \"restaurantId\", \"date\", \"images\", \"rating\", \"url\"]]\n",
        "data_sm.to_pickle(data_path+\"reviews_sm.pkl\")\n"
      ]
    }
  ],
  "metadata": {
    "accelerator": "GPU",
    "colab": {
      "provenance": []
    },
    "gpuClass": "standard",
    "kernelspec": {
      "display_name": "Python 3",
      "name": "python3"
    },
    "language_info": {
      "codemirror_mode": {
        "name": "ipython",
        "version": 3
      },
      "file_extension": ".py",
      "mimetype": "text/x-python",
      "name": "python",
      "nbconvert_exporter": "python",
      "pygments_lexer": "ipython3",
      "version": "3.9.16"
    }
  },
  "nbformat": 4,
  "nbformat_minor": 0
}
