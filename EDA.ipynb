{
  "cells": [
    {
      "cell_type": "code",
      "execution_count": 2,
      "metadata": {
        "id": "QKSZp7s7c0eA"
      },
      "outputs": [],
      "source": [
        "import pandas as pd\n",
        "import numpy as np"
      ]
    },
    {
      "attachments": {},
      "cell_type": "markdown",
      "metadata": {
        "id": "knITswaNbNGL"
      },
      "source": [
        "## Intersección de usuarios (**con imágenes**) entre ciudades para domain adaptation"
      ]
    },
    {
      "cell_type": "code",
      "execution_count": 3,
      "metadata": {},
      "outputs": [],
      "source": [
        "cities = [\"Gijon\", \"Oviedo\", \"Barcelona\", \"Warsaw\", \"Budapest\", \"Hamburg\", \"Vienna\", \"Bucharest\", \"New York City\", \"Paris\", \"Rome\", \"Madrid\", \"Berlin\", \"London\", \"Istanbul\", \"Moscow\", \"St.Petersburg\", \"Athens\"]"
      ]
    },
    {
      "cell_type": "code",
      "execution_count": 4,
      "metadata": {},
      "outputs": [
        {
          "name": "stdout",
          "output_type": "stream",
          "text": [
            "          \tcategory\titems\treviews\tusers\n",
            "gijon     \trestaurants    \t849\t82145\t42384\n",
            "gijon     \tpois           \t312\t16868\t9856\n"
          ]
        }
      ],
      "source": [
        "cities = [\"Gijon\"]\n",
        "cities_data = {}\n",
        "\n",
        "print(f\"{'':10s}\\tcategory\\titems\\treviews\\tusers\")\n",
        "\n",
        "for city in cities:\n",
        "    city = city.lower().replace(\" \", \"\")\n",
        "    city_path = f\"out/{city}\"\n",
        "\n",
        "    cities_data[city] = {\"restaurants\":{}, \"pois\":{}}\n",
        "\n",
        "    for category in [\"restaurants\", \"pois\"]:\n",
        "        category_path = f\"{city_path}/{category}\"\n",
        "\n",
        "        item_path = f\"{category_path}/items.pkl\"\n",
        "        review_path = f\"{category_path}/reviews.pkl\"\n",
        "        user_path = f\"{category_path}/users.pkl\"\n",
        "\n",
        "        items = pd.read_pickle(item_path)\n",
        "        reviews = pd.read_pickle(review_path)\n",
        "        users = pd.read_pickle(user_path)\n",
        "\n",
        "        reviews[\"n_images\"] = reviews[\"images\"].apply(lambda x: len(x))\n",
        "        users_with_images = reviews.loc[reviews.n_images>0][\"userId\"].unique()\n",
        "\n",
        "        cities_data[city][category] = {\"items\":items, \"reviews\":reviews, \"users\":users, \"users_images\":users_with_images}\n",
        "        \n",
        "        print(f\"{city:10s}\\t{category:15s}\\t{len(items)}\\t{len(reviews)}\\t{len(users)}\")"
      ]
    },
    {
      "cell_type": "code",
      "execution_count": 9,
      "metadata": {},
      "outputs": [
        {
          "name": "stdout",
          "output_type": "stream",
          "text": [
            "city\tgijon\toviedo\tbarcelona\twarsaw\tbudapest\thamburg\tvienna\tbucharest\tnewyorkcity\tparis\trome\tmadrid\tberlin\tlondon\tistanbul\tmoscow\tst.petersburg\tathens\n",
            "gijon\t10113\t1414\t667\t52\t157\t26\t131\t32\t183\t252\t407\t1917\t165\t266\t72\t26\t26\t80\t\n",
            "oviedo\t1414\t9476\t668\t70\t192\t33\t142\t34\t195\t263\t432\t1740\t187\t290\t70\t36\t34\t98\t\n",
            "barcelona\t667\t668\t178938\t1299\t3889\t1105\t3500\t867\t5251\t9609\t10684\t11389\t3961\t8931\t2090\t1434\t1177\t2253\t\n",
            "warsaw\t52\t70\t1299\t25988\t1422\t308\t1093\t521\t734\t1238\t1661\t1082\t1243\t1507\t490\t507\t416\t704\t\n",
            "budapest\t157\t192\t3889\t1422\t81719\t674\t5253\t1102\t2308\t3978\t5365\t3038\t3028\t4834\t1487\t1209\t1067\t1568\t\n",
            "hamburg\t26\t33\t1105\t308\t674\t20043\t1169\t161\t776\t1153\t1019\t673\t2402\t1356\t326\t239\t203\t336\t\n",
            "vienna\t131\t142\t3500\t1093\t5253\t1169\t55469\t800\t2328\t4126\t4874\t2780\t3349\t4309\t1360\t1151\t963\t1385\t\n",
            "bucharest\t32\t34\t867\t521\t1102\t161\t800\t20430\t496\t915\t1411\t754\t651\t1091\t572\t260\t220\t632\t\n",
            "newyorkcity\t183\t195\t5251\t734\t2308\t776\t2328\t496\t98468\t7478\t6507\t4105\t2794\t9008\t1337\t808\t709\t1514\t\n",
            "paris\t252\t263\t9609\t1238\t3978\t1153\t4126\t915\t7478\t184542\t11711\t6298\t4355\t12981\t2307\t1501\t1332\t2590\t\n",
            "rome\t407\t432\t10684\t1661\t5365\t1019\t4874\t1411\t6507\t11711\t281425\t7835\t4736\t10619\t2416\t1689\t1512\t3393\t\n",
            "madrid\t1917\t1740\t11389\t1082\t3038\t673\t2780\t754\t4105\t6298\t7835\t139702\t3099\t6073\t1593\t878\t780\t1879\t\n",
            "berlin\t165\t187\t3961\t1243\t3028\t2402\t3349\t651\t2794\t4355\t4736\t3099\t62240\t5122\t1162\t872\t752\t1286\t\n",
            "london\t266\t290\t8931\t1507\t4834\t1356\t4309\t1091\t9008\t12981\t10619\t6073\t5122\t233318\t2478\t1166\t1020\t2649\t\n",
            "istanbul\t72\t70\t2090\t490\t1487\t326\t1360\t572\t1337\t2307\t2416\t1593\t1162\t2478\t82013\t1179\t961\t1357\t\n",
            "moscow\t26\t36\t1434\t507\t1209\t239\t1151\t260\t808\t1501\t1689\t878\t872\t1166\t1179\t43012\t5507\t515\t\n",
            "st.petersburg\t26\t34\t1177\t416\t1067\t203\t963\t220\t709\t1332\t1512\t780\t752\t1020\t961\t5507\t43702\t434\t\n",
            "athens\t80\t98\t2253\t704\t1568\t336\t1385\t632\t1514\t2590\t3393\t1879\t1286\t2649\t1357\t515\t434\t46725\t\n"
          ]
        }
      ],
      "source": [
        "city_names = \"\\t\".join(cities_data.keys())\n",
        "print(f'city\\t{city_names}')\n",
        "      \n",
        "for c_urs in cities_data.keys():\n",
        "  print(c_urs, end=\"\\t\")\n",
        "  for o_urs in cities_data.keys():\n",
        "    c_data = set(cities_data[c_urs][\"restaurants\"][\"users_images\"])\n",
        "    o_data = set(cities_data[o_urs][\"restaurants\"][\"users_images\"])\n",
        "    print(len(c_data.intersection(o_data)), end=\"\\t\")\n",
        "  print()"
      ]
    },
    {
      "cell_type": "code",
      "execution_count": 11,
      "metadata": {},
      "outputs": [
        {
          "name": "stdout",
          "output_type": "stream",
          "text": [
            "city\tgijon\toviedo\tbarcelona\twarsaw\tbudapest\thamburg\tvienna\tbucharest\tnewyorkcity\tparis\trome\tmadrid\tberlin\tlondon\tistanbul\tmoscow\tst.petersburg\tathens\n",
            "gijon\t4859\t1883\t860\t162\t575\t132\t321\t94\t615\t723\t687\t3179\t819\t1168\t257\t101\t121\t185\t\n",
            "oviedo\t1775\t5108\t1034\t169\t621\t134\t394\t97\t696\t867\t816\t3257\t931\t1223\t334\t120\t161\t232\t\n",
            "barcelona\t908\t1180\t100320\t3734\t14429\t3802\t10403\t2330\t19826\t27365\t22569\t26667\t18632\t33405\t9214\t3962\t4753\t7326\t\n",
            "warsaw\t83\t100\t2559\t21909\t4550\t1023\t3014\t1363\t2634\t3252\t3005\t2520\t4560\t4944\t1898\t1487\t1370\t1625\t\n",
            "budapest\t235\t340\t8876\t4383\t89333\t2535\t14509\t3144\t9520\t12071\t11140\t8105\t13759\t18173\t6378\t3493\t3992\t4776\t\n",
            "hamburg\t55\t80\t2394\t952\t2409\t24454\t3482\t478\t3036\t3251\t2561\t1875\t8347\t4956\t1493\t781\t955\t1025\t\n",
            "vienna\t203\t288\t8139\t3298\t17387\t4543\t62571\t2217\t9691\t13357\t11372\t7906\t14677\t16684\t5994\t3770\t4105\t4388\t\n",
            "bucharest\t61\t79\t1826\t1474\t3514\t612\t2246\t16397\t1711\t2370\t2487\t1788\t2608\t3448\t2021\t888\t888\t1596\t\n",
            "newyorkcity\t271\t414\t16199\t3117\t12104\t3191\t10102\t1816\t169805\t32558\t23422\t14375\t16559\t44135\t9380\t3478\t5049\t7379\t\n",
            "paris\t414\t581\t22249\t4033\t16185\t4244\t14135\t2616\t30309\t164519\t29939\t18683\t21414\t50372\t11303\t5154\t6230\t9139\t\n",
            "rome\t573\t801\t24128\t4765\t20129\t4053\t15526\t3626\t27633\t38717\t150023\t21524\t23171\t44215\t12306\t5088\t6425\t11470\t\n",
            "madrid\t2505\t2856\t21468\t3286\t11242\t2642\t8459\t1974\t15269\t20007\t16364\t106770\t15393\t23721\t7185\t2976\t3528\t5682\t\n",
            "berlin\t261\t327\t9470\t3902\t11753\t8668\t10779\t1907\t11859\t14066\t11443\t9015\t87101\t20846\t5613\t3083\t3633\t4236\t\n",
            "london\t514\t625\t24882\t5712\t23478\t5835\t17095\t3788\t43213\t47759\t33695\t19814\t31520\t269582\t14051\t4963\t7040\t11043\t\n",
            "istanbul\t104\t169\t5194\t1587\t5727\t1361\t4581\t1538\t5652\t7678\t6589\t4778\t5992\t9213\t54597\t3350\t3198\t4452\t\n",
            "moscow\t53\t72\t3164\t1417\t3885\t879\t3887\t704\t2856\t4529\t3440\t2517\t3839\t4030\t4321\t32559\t13293\t1457\t\n",
            "st.petersburg\t55\t81\t2933\t1335\t3660\t924\t3398\t662\t2794\t4330\t3490\t2403\t3781\t4038\t3574\t13876\t32203\t1420\t\n",
            "athens\t128\t179\t5514\t1991\t5676\t1099\t4324\t1752\t6079\t8191\t8451\t5025\t5899\t9964\t5985\t1565\t1832\t37065\t\n"
          ]
        }
      ],
      "source": [
        "city_names = \"\\t\".join(cities_data.keys())\n",
        "print(f'city\\t{city_names}')\n",
        "      \n",
        "for c_urs in cities_data.keys():\n",
        "  print(c_urs, end=\"\\t\")\n",
        "  for o_urs in cities_data.keys():\n",
        "    c_data = set(cities_data[c_urs][\"restaurants\"][\"reviews\"][\"userId\"].unique())\n",
        "    o_data = set(cities_data[o_urs][\"pois\"][\"reviews\"][\"userId\"].unique())\n",
        "    print(len(c_data.intersection(o_data)), end=\"\\t\")\n",
        "  print()"
      ]
    },
    {
      "cell_type": "code",
      "execution_count": null,
      "metadata": {
        "id": "sq4lauiAIHyE"
      },
      "outputs": [],
      "source": [
        "def fotos_por_restaurante(reviews, city):\n",
        "  data = reviews.groupby(\"restaurantId\").n_img.sum().reset_index()\n",
        "  histo = sbs.histplot(data, x=\"n_img\", kde=False, bins=range(1,22,1));\n",
        "  histo.set_xticks(np.arange(1,21,1)+.5); # Etiquetas del eje X\n",
        "  labels = list(map(str,range(1,20)))+[\"≥20\"]\n",
        "  histo.set_xticklabels(labels)\n",
        "  histo.set_xlabel(\"Número de fotos\")\n",
        "  histo.set_ylabel(\"Número de restaurantes\")\n",
        "  plt.tight_layout()\n",
        "  histo.figure.savefig(f\"{city}_hist_fotos_pr_rst.pdf\")\n",
        "  plt.clf()\n",
        "  \n",
        "def fotos_por_review(reviews, city):\n",
        "  return reviews\n",
        "def fotos_por_usuario(reviews, city):\n",
        "  return reviews\n",
        "def reviews_por_restaurante(reviews, city):\n",
        "  data = reviews.groupby(\"restaurantId\").reviewId.count().reset_index()\n",
        "  data.loc[data.reviewId>=20, \"reviewId\"]=20\n",
        "\n",
        "  histo = sbs.histplot(data, x=\"reviewId\", kde=False, bins=range(1,22,1));\n",
        "  histo.set_xticks(np.arange(1,21,1)+.5); # Etiquetas del eje X\n",
        "  labels = list(map(str,range(1,20)))+[\"≥20\"]\n",
        "  histo.set_xticklabels(labels)\n",
        "  histo.set_xlabel(\"Número de reseñas\")\n",
        "  histo.set_ylabel(\"Número de restaurantes\")\n",
        "  plt.tight_layout()\n",
        "  histo.figure.savefig(f\"{city}_hist_rvws_pr_rst.pdf\")\n",
        "\n",
        "def reviews_por_usuario(reviews, city):\n",
        "  return reviews"
      ]
    },
    {
      "cell_type": "code",
      "execution_count": null,
      "metadata": {
        "id": "CiNQ0kfWgLoC"
      },
      "outputs": [],
      "source": [
        "cities = [\"gijon\", \"barcelona\", \"paris\", \"madrid\", \"newyorkcity\", \"london\"]\n",
        "# cities = [\"gijon\"]\n",
        "\n",
        "base_path = \"/content/drive/Shareddrives/Media\"\n",
        "\n",
        "for city in cities:\n",
        "  data_path = f\"/content/drive/Shareddrives/DataSets/TripAdvisor/{city}/\"\n",
        "  reviews = pd.read_pickle(data_path+\"reviews.pkl\")\n",
        "\n",
        "  # reviews[\"n_img\"] = reviews.images.apply(lambda x: len(x))\n",
        "  restaurants = pd.read_pickle(data_path+\"restaurants.pkl\")\n",
        "  users = pd.read_pickle(data_path+\"users.pkl\")\n",
        "  \n",
        "  # dates = pd.to_datetime(reviews.date, format=\"%d de %B de %Y\" )\n",
        "  # print(dates.min(), dates.max())\n",
        "\n",
        "  # n_images  = reviews.n_img.sum()\n",
        "  # dt = [city, len(reviews), len(users), len(restaurants), n_images]\n",
        "  # print(\"\\\\\"+\" & \".join(map(str, dt))+\" \\\\\\\\\")\n",
        "\n",
        "  reviews = reviews[[\"date\", \"images\", \"language\", \"rating\", \"restaurantId\", \"reviewId\", \"text\", \"title\", \"url\", \"userId\"]]\n",
        "  users = users[[\"id\", \"name\", \"location\"]]\n",
        "  restaurants = restaurants[[\"id\", \"name\", \"city\", \"priceInterval\", \"url\", \"rating\"]]\n",
        "\n",
        "  reviews.iloc[:50].to_csv(f\"{base_path}/{city}_revs.csv\", encoding=\"utf-8\")\n",
        "  users.iloc[:50].to_csv(f\"{base_path}/{city}_usrs.csv\", encoding=\"utf-8\")\n",
        "  restaurants.iloc[:50].to_csv(f\"{base_path}/{city}_rsts.csv\", encoding=\"utf-8\")"
      ]
    },
    {
      "cell_type": "code",
      "execution_count": null,
      "metadata": {
        "id": "mi40lyilgUf7"
      },
      "outputs": [],
      "source": [
        "reviews[\"text\"] = reviews.text.str.lower().str.split(\" \")"
      ]
    },
    {
      "cell_type": "code",
      "execution_count": null,
      "metadata": {
        "colab": {
          "base_uri": "https://localhost:8080/",
          "height": 312
        },
        "id": "hS7xbwP7ggy2",
        "outputId": "d0d1d16b-e772-4f28-ba34-39616d08bbdd"
      },
      "outputs": [],
      "source": [
        "reviews.text.str.lower().str.contains(\"definitivas\").value_counts()"
      ]
    },
    {
      "cell_type": "code",
      "execution_count": null,
      "metadata": {
        "id": "v474M54Hcl35"
      },
      "outputs": [],
      "source": [
        "cities = {\"gijon\":0.3}#, \"barcelona\":1.6, \"madrid\":2.1, \"newyorkcity\":8.3, \"paris\":8.9, \"london\":3.2} # Ciudades con su población\n",
        "stats = []\n",
        "\n",
        "for city in cities.keys():\n",
        "  data_path = f\"/content/drive/Shareddrives/DataSets/TripAdvisor/{city}/\"\n",
        "\n",
        "  reviews = pd.read_pickle(data_path+\"reviews.pkl\")\n",
        "  # restaurants = pd.read_pickle(data_path+\"restaurants.pkl\")\n",
        "  # users = pd.read_pickle(data_path+\"users.pkl\")\n",
        "\n",
        "  reviews[\"n_img\"] = reviews.images.apply(lambda x: len(x))\n",
        "\n",
        "  n_reviews = len(reviews.reviewId.unique())\n",
        "  n_images  = reviews.n_img.sum()\n",
        "  n_users = len(reviews.userId.unique())\n",
        "  n_rest = len(reviews.restaurantId.unique())\n",
        "\n",
        "  stats.append((f\"\\{city}\", cities[city], n_reviews, n_images, n_users, n_rest))\n",
        "\n",
        "  fotos_por_restaurante(reviews, data_path+city)\n",
        "  reviews_por_restaurante(reviews, data_path+city)\n",
        "\n",
        "stats = pd.DataFrame(stats, columns=[\"Conjunto\", \"Población\", \"Reseñas\", \"Imágenes\", \"Usuarios\", \"Restaurantes\"])\n",
        "print(stats.to_latex(index=False, escape=False))"
      ]
    },
    {
      "cell_type": "code",
      "execution_count": null,
      "metadata": {
        "id": "-Rr3LW-prSyn"
      },
      "outputs": [],
      "source": [
        "data = reviews.groupby(\"restaurantId\").n_img.sum().reset_index()\n",
        "data.loc[data.n_img>=20, \"n_img\"]=20\n",
        "\n",
        "histo = sbs.histplot(data, x=\"n_img\", kde=False, bins=range(1,22,1));\n",
        "histo.set_xticks(np.arange(1,21,1)+.5); # Etiquetas del eje X\n",
        "labels = list(map(str,range(1,20)))+[\"≥20\"]\n",
        "histo.set_xticklabels(labels)\n",
        "histo.set_xlabel(\"Número de fotos\")\n",
        "histo.set_ylabel(\"Número de restaurantes\")\n",
        "plt.tight_layout()\n"
      ]
    },
    {
      "cell_type": "code",
      "execution_count": null,
      "metadata": {
        "id": "q6SFtKZEs44b"
      },
      "outputs": [],
      "source": [
        "# Datos para Bea (con menos columnas)\n",
        "data_sm = reviews[[\"reviewId\", \"userId\", \"restaurantId\", \"date\", \"images\", \"rating\", \"url\"]]\n",
        "data_sm.to_pickle(data_path+\"reviews_sm.pkl\")\n"
      ]
    },
    {
      "attachments": {},
      "cell_type": "markdown",
      "metadata": {},
      "source": [
        "## Número de restaurantes con datos de precio\n"
      ]
    },
    {
      "cell_type": "code",
      "execution_count": 3,
      "metadata": {},
      "outputs": [
        {
          "ename": "FileNotFoundError",
          "evalue": "[Errno 2] No such file or directory: 'out/istanbul/restaurants/items.pkl'",
          "output_type": "error",
          "traceback": [
            "\u001b[0;31m---------------------------------------------------------------------------\u001b[0m",
            "\u001b[0;31mFileNotFoundError\u001b[0m                         Traceback (most recent call last)",
            "Cell \u001b[0;32mIn[3], line 8\u001b[0m\n\u001b[1;32m      6\u001b[0m c \u001b[39m=\u001b[39m c\u001b[39m.\u001b[39mlower()\u001b[39m.\u001b[39mreplace(\u001b[39m\"\u001b[39m\u001b[39m \u001b[39m\u001b[39m\"\u001b[39m, \u001b[39m\"\u001b[39m\u001b[39m\"\u001b[39m)\n\u001b[1;32m      7\u001b[0m reviews_p_path \u001b[39m=\u001b[39m \u001b[39mf\u001b[39m\u001b[39m\"\u001b[39m\u001b[39mout/\u001b[39m\u001b[39m{\u001b[39;00mc\u001b[39m}\u001b[39;00m\u001b[39m/restaurants/items.pkl\u001b[39m\u001b[39m\"\u001b[39m\n\u001b[0;32m----> 8\u001b[0m reviews \u001b[39m=\u001b[39m pd\u001b[39m.\u001b[39;49mread_pickle(reviews_p_path)\n\u001b[1;32m      9\u001b[0m a,b \u001b[39m=\u001b[39m np\u001b[39m.\u001b[39munique(reviews[\u001b[39m\"\u001b[39m\u001b[39mpriceInterval\u001b[39m\u001b[39m\"\u001b[39m], return_counts\u001b[39m=\u001b[39m\u001b[39mTrue\u001b[39;00m)\n\u001b[1;32m     10\u001b[0m city_data \u001b[39m=\u001b[39m \u001b[39mdict\u001b[39m(\u001b[39mzip\u001b[39m(a,b))\n",
            "File \u001b[0;32m/media/nas/pperez/miniconda3/envs/TripAdvisorDownload/lib/python3.9/site-packages/pandas/io/pickle.py:179\u001b[0m, in \u001b[0;36mread_pickle\u001b[0;34m(filepath_or_buffer, compression, storage_options)\u001b[0m\n\u001b[1;32m    115\u001b[0m \u001b[39m\u001b[39m\u001b[39m\"\"\"\u001b[39;00m\n\u001b[1;32m    116\u001b[0m \u001b[39mLoad pickled pandas object (or any object) from file.\u001b[39;00m\n\u001b[1;32m    117\u001b[0m \n\u001b[0;32m   (...)\u001b[0m\n\u001b[1;32m    176\u001b[0m \u001b[39m4    4    9\u001b[39;00m\n\u001b[1;32m    177\u001b[0m \u001b[39m\"\"\"\u001b[39;00m\n\u001b[1;32m    178\u001b[0m excs_to_catch \u001b[39m=\u001b[39m (\u001b[39mAttributeError\u001b[39;00m, \u001b[39mImportError\u001b[39;00m, \u001b[39mModuleNotFoundError\u001b[39;00m, \u001b[39mTypeError\u001b[39;00m)\n\u001b[0;32m--> 179\u001b[0m \u001b[39mwith\u001b[39;00m get_handle(\n\u001b[1;32m    180\u001b[0m     filepath_or_buffer,\n\u001b[1;32m    181\u001b[0m     \u001b[39m\"\u001b[39;49m\u001b[39mrb\u001b[39;49m\u001b[39m\"\u001b[39;49m,\n\u001b[1;32m    182\u001b[0m     compression\u001b[39m=\u001b[39;49mcompression,\n\u001b[1;32m    183\u001b[0m     is_text\u001b[39m=\u001b[39;49m\u001b[39mFalse\u001b[39;49;00m,\n\u001b[1;32m    184\u001b[0m     storage_options\u001b[39m=\u001b[39;49mstorage_options,\n\u001b[1;32m    185\u001b[0m ) \u001b[39mas\u001b[39;00m handles:\n\u001b[1;32m    186\u001b[0m     \u001b[39m# 1) try standard library Pickle\u001b[39;00m\n\u001b[1;32m    187\u001b[0m     \u001b[39m# 2) try pickle_compat (older pandas version) to handle subclass changes\u001b[39;00m\n\u001b[1;32m    188\u001b[0m     \u001b[39m# 3) try pickle_compat with latin-1 encoding upon a UnicodeDecodeError\u001b[39;00m\n\u001b[1;32m    190\u001b[0m     \u001b[39mtry\u001b[39;00m:\n\u001b[1;32m    191\u001b[0m         \u001b[39m# TypeError for Cython complaints about object.__new__ vs Tick.__new__\u001b[39;00m\n\u001b[1;32m    192\u001b[0m         \u001b[39mtry\u001b[39;00m:\n",
            "File \u001b[0;32m/media/nas/pperez/miniconda3/envs/TripAdvisorDownload/lib/python3.9/site-packages/pandas/io/common.py:868\u001b[0m, in \u001b[0;36mget_handle\u001b[0;34m(path_or_buf, mode, encoding, compression, memory_map, is_text, errors, storage_options)\u001b[0m\n\u001b[1;32m    859\u001b[0m         handle \u001b[39m=\u001b[39m \u001b[39mopen\u001b[39m(\n\u001b[1;32m    860\u001b[0m             handle,\n\u001b[1;32m    861\u001b[0m             ioargs\u001b[39m.\u001b[39mmode,\n\u001b[0;32m   (...)\u001b[0m\n\u001b[1;32m    864\u001b[0m             newline\u001b[39m=\u001b[39m\u001b[39m\"\u001b[39m\u001b[39m\"\u001b[39m,\n\u001b[1;32m    865\u001b[0m         )\n\u001b[1;32m    866\u001b[0m     \u001b[39melse\u001b[39;00m:\n\u001b[1;32m    867\u001b[0m         \u001b[39m# Binary mode\u001b[39;00m\n\u001b[0;32m--> 868\u001b[0m         handle \u001b[39m=\u001b[39m \u001b[39mopen\u001b[39;49m(handle, ioargs\u001b[39m.\u001b[39;49mmode)\n\u001b[1;32m    869\u001b[0m     handles\u001b[39m.\u001b[39mappend(handle)\n\u001b[1;32m    871\u001b[0m \u001b[39m# Convert BytesIO or file objects passed with an encoding\u001b[39;00m\n",
            "\u001b[0;31mFileNotFoundError\u001b[0m: [Errno 2] No such file or directory: 'out/istanbul/restaurants/items.pkl'"
          ]
        }
      ],
      "source": [
        "\n",
        "cities = [\"Istanbul\", \"Moscow\", \"St. Petersburg\", \"Athens\",\"Rome\"]\n",
        "cities = [\"Gijon\", \"Barcelona\", \"Warsaw\", \"Budapest\", \"Hamburg\", \"Vienna\", \"Bucharest\", \"New York City\", \"Paris\", \"Madrid\", \"Berlin\", \"London\", \"Porto\", \"Lisbon\"]\n",
        "\n",
        "\n",
        "\n",
        "res = []\n",
        "\n",
        "for c in cities:\n",
        "    c = c.lower().replace(\" \", \"\")\n",
        "    reviews_p_path = f\"out/{c}/restaurants/items.pkl\"\n",
        "    reviews = pd.read_pickle(reviews_p_path)\n",
        "    a,b = np.unique(reviews[\"priceInterval\"], return_counts=True)\n",
        "    city_data = dict(zip(a,b))\n",
        "    city_data[\"city\"] = c\n",
        "    res.append(pd.DataFrame(city_data, index=[0]).values.tolist()[0])\n",
        "    \n",
        "pd.DataFrame(res, columns=[list(city_data.keys())])[list(city_data.keys())[::-1]]"
      ]
    }
  ],
  "metadata": {
    "accelerator": "GPU",
    "colab": {
      "provenance": []
    },
    "gpuClass": "standard",
    "kernelspec": {
      "display_name": "TripAdvisorDownload",
      "language": "python",
      "name": "python3"
    },
    "language_info": {
      "codemirror_mode": {
        "name": "ipython",
        "version": 3
      },
      "file_extension": ".py",
      "mimetype": "text/x-python",
      "name": "python",
      "nbconvert_exporter": "python",
      "pygments_lexer": "ipython3",
      "version": "3.9.16"
    },
    "vscode": {
      "interpreter": {
        "hash": "eb68e0df4161cb8dc37516e6aea623a9b9a1614133aeb2a8de715ef8698469ea"
      }
    }
  },
  "nbformat": 4,
  "nbformat_minor": 0
}
