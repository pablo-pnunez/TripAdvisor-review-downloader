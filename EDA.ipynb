{
  "cells": [
    {
      "cell_type": "code",
      "execution_count": 1,
      "metadata": {
        "id": "QKSZp7s7c0eA"
      },
      "outputs": [],
      "source": [
        "import pandas as pd\n",
        "import numpy as np"
      ]
    },
    {
      "attachments": {},
      "cell_type": "markdown",
      "metadata": {
        "id": "knITswaNbNGL"
      },
      "source": [
        "## Intersección de usuarios (**con imágenes**) entre ciudades para domain adaptation"
      ]
    },
    {
      "cell_type": "code",
      "execution_count": 4,
      "metadata": {},
      "outputs": [],
      "source": [
        "cities = [\"Gijon\", \"Oviedo\", \"Barcelona\", \"Warsaw\", \"Budapest\", \"Hamburg\", \"Vienna\", \"Bucharest\", \"New York\", \"Paris\", \"Rome\", \"Madrid\", \"Berlin\", \"London\", \"Istanbul\", \"Moscow\", \"St.Petersburg\", \"Athens\"]"
      ]
    },
    {
      "cell_type": "code",
      "execution_count": 5,
      "metadata": {},
      "outputs": [
        {
          "name": "stdout",
          "output_type": "stream",
          "text": [
            "          \tcategory\titems\treviews\tusers\n",
            "gijon     \trestaurants    \t840\t80753\t41980\n",
            "gijon     \tpois           \t307\t17590\t9916\n",
            "barcelona \trestaurants    \t9523\t1438248\t771555\n",
            "barcelona \tpois           \t4790\t660581\t314395\n",
            "warsaw    \trestaurants    \t3606\t197274\t108006\n",
            "warsaw    \tpois           \t1384\t122357\t60872\n",
            "budapest  \trestaurants    \t3869\t565005\t330198\n",
            "budapest  \tpois           \t2407\t616166\t218895\n",
            "hamburg   \trestaurants    \t3287\t190865\t102362\n",
            "hamburg   \tpois           \t1177\t129185\t71664\n",
            "vienna    \trestaurants    \t4801\t490952\t250106\n",
            "vienna    \tpois           \t2215\t348542\t131841\n",
            "bucharest \trestaurants    \t2614\t143560\t82002\n",
            "bucharest \tpois           \t1315\t78805\t45238\n",
            "newyork   \trestaurants    \t10129\t1256917\t572848\n",
            "newyork   \tpois           \t5637\t1414372\t534874\n"
          ]
        }
      ],
      "source": [
        "\n",
        "cities_data = {}\n",
        "\n",
        "print(f\"{'':10s}\\tcategory\\titems\\treviews\\tusers\")\n",
        "\n",
        "for city in cities:\n",
        "    city = city.lower().replace(\" \", \"\")\n",
        "    city_path = f\"out/{city}\"\n",
        "\n",
        "    cities_data[city] = {\"restaurants\":{}, \"pois\":{}}\n",
        "\n",
        "    for category in [\"restaurants\", \"pois\"]:\n",
        "        category_path = f\"{city_path}/{category}\"\n",
        "\n",
        "        item_path = f\"{category_path}/items.pkl\"\n",
        "        review_path = f\"{category_path}/reviews.pkl\"\n",
        "        user_path = f\"{category_path}/users.pkl\"\n",
        "\n",
        "        items = pd.read_pickle(item_path)\n",
        "        reviews = pd.read_pickle(review_path)\n",
        "        users = pd.read_pickle(user_path)\n",
        "\n",
        "        reviews[\"n_images\"] = reviews[\"images\"].apply(lambda x: len(x))\n",
        "        users_with_images = reviews.loc[reviews.n_images>0][\"userId\"].unique()\n",
        "\n",
        "        cities_data[city][category] = {\"items\":items, \"reviews\":reviews, \"users\":users, \"users_images\":users_with_images}\n",
        "        \n",
        "        print(f\"{city:10s}\\t{category:15s}\\t{len(items)}\\t{len(reviews)}\\t{len(users)}\")"
      ]
    },
    {
      "cell_type": "code",
      "execution_count": 28,
      "metadata": {},
      "outputs": [
        {
          "name": "stdout",
          "output_type": "stream",
          "text": [
            "city\tgijon\tbarcelona\twarsaw\tbudapest\thamburg\tvienna\tbucharest\tnewyork\tparis\trome\tmadrid\tberlin\tlondon\n",
            "gijon\t10070\t661\t51\t157\t26\t131\t32\t182\t252\t407\t1911\t165\t266\t\n",
            "barcelona\t661\t178220\t1293\t3868\t1101\t3489\t863\t5251\t9565\t10658\t11361\t3955\t8907\t\n",
            "warsaw\t51\t1293\t25988\t1422\t308\t1093\t521\t736\t1238\t1661\t1082\t1243\t1507\t\n",
            "budapest\t157\t3868\t1422\t81719\t674\t5253\t1102\t2318\t3978\t5365\t3038\t3028\t4834\t\n",
            "hamburg\t26\t1101\t308\t674\t20043\t1169\t161\t778\t1153\t1019\t673\t2402\t1356\t\n",
            "vienna\t131\t3489\t1093\t5253\t1169\t55469\t800\t2329\t4126\t4874\t2780\t3349\t4309\t\n",
            "bucharest\t32\t863\t521\t1102\t161\t800\t20430\t498\t915\t1411\t754\t651\t1091\t\n",
            "newyork\t182\t5251\t736\t2318\t778\t2329\t498\t98832\t7510\t6527\t4114\t2797\t9036\t\n",
            "paris\t252\t9565\t1238\t3978\t1153\t4126\t915\t7510\t184542\t11711\t6298\t4355\t12981\t\n",
            "rome\t407\t10658\t1661\t5365\t1019\t4874\t1411\t6527\t11711\t281425\t7835\t4736\t10619\t\n",
            "madrid\t1911\t11361\t1082\t3038\t673\t2780\t754\t4114\t6298\t7835\t139702\t3099\t6073\t\n",
            "berlin\t165\t3955\t1243\t3028\t2402\t3349\t651\t2797\t4355\t4736\t3099\t62240\t5122\t\n",
            "london\t266\t8907\t1507\t4834\t1356\t4309\t1091\t9036\t12981\t10619\t6073\t5122\t233318\t\n"
          ]
        }
      ],
      "source": [
        "city_names = \"\\t\".join(cities_data.keys())\n",
        "print(f'city\\t{city_names}')\n",
        "      \n",
        "for c_urs in cities_data.keys():\n",
        "  print(c_urs, end=\"\\t\")\n",
        "  for o_urs in cities_data.keys():\n",
        "    c_data = set(cities_data[c_urs][\"restaurants\"][\"users_images\"])\n",
        "    o_data = set(cities_data[o_urs][\"restaurants\"][\"users_images\"])\n",
        "    print(len(c_data.intersection(o_data)), end=\"\\t\")\n",
        "  print()"
      ]
    },
    {
      "cell_type": "code",
      "execution_count": 30,
      "metadata": {},
      "outputs": [
        {
          "name": "stdout",
          "output_type": "stream",
          "text": [
            "city\tgijon\tbarcelona\twarsaw\tbudapest\thamburg\tvienna\tbucharest\tnewyork\tparis\trome\tmadrid\tberlin\tlondon\n",
            "gijon\t4852\t859\t161\t575\t131\t321\t94\t699\t723\t685\t3171\t815\t1165\t\n",
            "barcelona\t907\t100012\t3724\t14357\t3791\t10360\t2320\t22671\t27229\t22444\t26570\t18557\t33254\t\n",
            "warsaw\t83\t2559\t21909\t4550\t1023\t3014\t1363\t3017\t3252\t3005\t2520\t4560\t4944\t\n",
            "budapest\t235\t8876\t4383\t89333\t2535\t14509\t3144\t10809\t12071\t11140\t8105\t13759\t18173\t\n",
            "hamburg\t55\t2394\t952\t2409\t24454\t3482\t478\t3474\t3251\t2561\t1875\t8347\t4956\t\n",
            "vienna\t203\t8139\t3298\t17387\t4543\t62571\t2217\t10999\t13357\t11372\t7906\t14677\t16684\t\n",
            "bucharest\t61\t1826\t1474\t3514\t612\t2246\t16397\t1976\t2370\t2487\t1788\t2608\t3448\t\n",
            "newyork\t274\t16237\t3125\t12129\t3197\t10127\t1820\t194619\t32629\t23485\t14404\t16592\t44235\t\n",
            "paris\t414\t22249\t4033\t16185\t4244\t14135\t2616\t34720\t164519\t29939\t18683\t21414\t50372\t\n",
            "rome\t573\t24128\t4765\t20129\t4053\t15526\t3626\t31724\t38717\t150023\t21524\t23171\t44215\t\n",
            "madrid\t2505\t21468\t3286\t11242\t2642\t8459\t1974\t17485\t20007\t16364\t106770\t15393\t23721\t\n",
            "berlin\t261\t9470\t3902\t11753\t8668\t10779\t1907\t13493\t14066\t11443\t9015\t87101\t20846\t\n",
            "london\t514\t24882\t5712\t23478\t5835\t17095\t3788\t48813\t47759\t33695\t19814\t31520\t269582\t\n"
          ]
        }
      ],
      "source": [
        "city_names = \"\\t\".join(cities_data.keys())\n",
        "print(f'city\\t{city_names}')\n",
        "      \n",
        "for c_urs in cities_data.keys():\n",
        "  print(c_urs, end=\"\\t\")\n",
        "  for o_urs in cities_data.keys():\n",
        "    c_data = set(cities_data[c_urs][\"restaurants\"][\"users\"][\"userId\"].unique())\n",
        "    o_data = set(cities_data[o_urs][\"pois\"][\"users\"][\"userId\"].unique())\n",
        "    print(len(c_data.intersection(o_data)), end=\"\\t\")\n",
        "  print()"
      ]
    },
    {
      "cell_type": "code",
      "execution_count": null,
      "metadata": {
        "id": "sq4lauiAIHyE"
      },
      "outputs": [],
      "source": [
        "def fotos_por_restaurante(reviews, city):\n",
        "  data = reviews.groupby(\"restaurantId\").n_img.sum().reset_index()\n",
        "  histo = sbs.histplot(data, x=\"n_img\", kde=False, bins=range(1,22,1));\n",
        "  histo.set_xticks(np.arange(1,21,1)+.5); # Etiquetas del eje X\n",
        "  labels = list(map(str,range(1,20)))+[\"≥20\"]\n",
        "  histo.set_xticklabels(labels)\n",
        "  histo.set_xlabel(\"Número de fotos\")\n",
        "  histo.set_ylabel(\"Número de restaurantes\")\n",
        "  plt.tight_layout()\n",
        "  histo.figure.savefig(f\"{city}_hist_fotos_pr_rst.pdf\")\n",
        "  plt.clf()\n",
        "  \n",
        "def fotos_por_review(reviews, city):\n",
        "  return reviews\n",
        "def fotos_por_usuario(reviews, city):\n",
        "  return reviews\n",
        "def reviews_por_restaurante(reviews, city):\n",
        "  data = reviews.groupby(\"restaurantId\").reviewId.count().reset_index()\n",
        "  data.loc[data.reviewId>=20, \"reviewId\"]=20\n",
        "\n",
        "  histo = sbs.histplot(data, x=\"reviewId\", kde=False, bins=range(1,22,1));\n",
        "  histo.set_xticks(np.arange(1,21,1)+.5); # Etiquetas del eje X\n",
        "  labels = list(map(str,range(1,20)))+[\"≥20\"]\n",
        "  histo.set_xticklabels(labels)\n",
        "  histo.set_xlabel(\"Número de reseñas\")\n",
        "  histo.set_ylabel(\"Número de restaurantes\")\n",
        "  plt.tight_layout()\n",
        "  histo.figure.savefig(f\"{city}_hist_rvws_pr_rst.pdf\")\n",
        "\n",
        "def reviews_por_usuario(reviews, city):\n",
        "  return reviews"
      ]
    },
    {
      "cell_type": "code",
      "execution_count": null,
      "metadata": {
        "id": "CiNQ0kfWgLoC"
      },
      "outputs": [],
      "source": [
        "cities = [\"gijon\", \"barcelona\", \"paris\", \"madrid\", \"newyorkcity\", \"london\"]\n",
        "# cities = [\"gijon\"]\n",
        "\n",
        "base_path = \"/content/drive/Shareddrives/Media\"\n",
        "\n",
        "for city in cities:\n",
        "  data_path = f\"/content/drive/Shareddrives/DataSets/TripAdvisor/{city}/\"\n",
        "  reviews = pd.read_pickle(data_path+\"reviews.pkl\")\n",
        "\n",
        "  # reviews[\"n_img\"] = reviews.images.apply(lambda x: len(x))\n",
        "  restaurants = pd.read_pickle(data_path+\"restaurants.pkl\")\n",
        "  users = pd.read_pickle(data_path+\"users.pkl\")\n",
        "  \n",
        "  # dates = pd.to_datetime(reviews.date, format=\"%d de %B de %Y\" )\n",
        "  # print(dates.min(), dates.max())\n",
        "\n",
        "  # n_images  = reviews.n_img.sum()\n",
        "  # dt = [city, len(reviews), len(users), len(restaurants), n_images]\n",
        "  # print(\"\\\\\"+\" & \".join(map(str, dt))+\" \\\\\\\\\")\n",
        "\n",
        "  reviews = reviews[[\"date\", \"images\", \"language\", \"rating\", \"restaurantId\", \"reviewId\", \"text\", \"title\", \"url\", \"userId\"]]\n",
        "  users = users[[\"id\", \"name\", \"location\"]]\n",
        "  restaurants = restaurants[[\"id\", \"name\", \"city\", \"priceInterval\", \"url\", \"rating\"]]\n",
        "\n",
        "  reviews.iloc[:50].to_csv(f\"{base_path}/{city}_revs.csv\", encoding=\"utf-8\")\n",
        "  users.iloc[:50].to_csv(f\"{base_path}/{city}_usrs.csv\", encoding=\"utf-8\")\n",
        "  restaurants.iloc[:50].to_csv(f\"{base_path}/{city}_rsts.csv\", encoding=\"utf-8\")"
      ]
    },
    {
      "cell_type": "code",
      "execution_count": null,
      "metadata": {
        "id": "mi40lyilgUf7"
      },
      "outputs": [],
      "source": [
        "reviews[\"text\"] = reviews.text.str.lower().str.split(\" \")"
      ]
    },
    {
      "cell_type": "code",
      "execution_count": null,
      "metadata": {
        "colab": {
          "base_uri": "https://localhost:8080/",
          "height": 312
        },
        "id": "hS7xbwP7ggy2",
        "outputId": "d0d1d16b-e772-4f28-ba34-39616d08bbdd"
      },
      "outputs": [
        {
          "ename": "AttributeError",
          "evalue": "ignored",
          "output_type": "error",
          "traceback": [
            "\u001b[0;31m---------------------------------------------------------------------------\u001b[0m",
            "\u001b[0;31mAttributeError\u001b[0m                            Traceback (most recent call last)",
            "\u001b[0;32m<ipython-input-5-ad45e8d5fc96>\u001b[0m in \u001b[0;36m<module>\u001b[0;34m\u001b[0m\n\u001b[0;32m----> 1\u001b[0;31m \u001b[0mreviews\u001b[0m\u001b[0;34m.\u001b[0m\u001b[0mtext\u001b[0m\u001b[0;34m.\u001b[0m\u001b[0mstr\u001b[0m\u001b[0;34m.\u001b[0m\u001b[0mlower\u001b[0m\u001b[0;34m(\u001b[0m\u001b[0;34m)\u001b[0m\u001b[0;34m.\u001b[0m\u001b[0mstr\u001b[0m\u001b[0;34m.\u001b[0m\u001b[0mcontains\u001b[0m\u001b[0;34m(\u001b[0m\u001b[0;34m\"definitivas\"\u001b[0m\u001b[0;34m)\u001b[0m\u001b[0;34m.\u001b[0m\u001b[0mvalue_counts\u001b[0m\u001b[0;34m(\u001b[0m\u001b[0;34m)\u001b[0m\u001b[0;34m\u001b[0m\u001b[0;34m\u001b[0m\u001b[0m\n\u001b[0m",
            "\u001b[0;32m/usr/local/lib/python3.8/dist-packages/pandas/core/generic.py\u001b[0m in \u001b[0;36m__getattr__\u001b[0;34m(self, name)\u001b[0m\n\u001b[1;32m   5485\u001b[0m         ):\n\u001b[1;32m   5486\u001b[0m             \u001b[0;32mreturn\u001b[0m \u001b[0mself\u001b[0m\u001b[0;34m[\u001b[0m\u001b[0mname\u001b[0m\u001b[0;34m]\u001b[0m\u001b[0;34m\u001b[0m\u001b[0;34m\u001b[0m\u001b[0m\n\u001b[0;32m-> 5487\u001b[0;31m         \u001b[0;32mreturn\u001b[0m \u001b[0mobject\u001b[0m\u001b[0;34m.\u001b[0m\u001b[0m__getattribute__\u001b[0m\u001b[0;34m(\u001b[0m\u001b[0mself\u001b[0m\u001b[0;34m,\u001b[0m \u001b[0mname\u001b[0m\u001b[0;34m)\u001b[0m\u001b[0;34m\u001b[0m\u001b[0;34m\u001b[0m\u001b[0m\n\u001b[0m\u001b[1;32m   5488\u001b[0m \u001b[0;34m\u001b[0m\u001b[0m\n\u001b[1;32m   5489\u001b[0m     \u001b[0;32mdef\u001b[0m \u001b[0m__setattr__\u001b[0m\u001b[0;34m(\u001b[0m\u001b[0mself\u001b[0m\u001b[0;34m,\u001b[0m \u001b[0mname\u001b[0m\u001b[0;34m:\u001b[0m \u001b[0mstr\u001b[0m\u001b[0;34m,\u001b[0m \u001b[0mvalue\u001b[0m\u001b[0;34m)\u001b[0m \u001b[0;34m->\u001b[0m \u001b[0;32mNone\u001b[0m\u001b[0;34m:\u001b[0m\u001b[0;34m\u001b[0m\u001b[0;34m\u001b[0m\u001b[0m\n",
            "\u001b[0;32m/usr/local/lib/python3.8/dist-packages/pandas/core/accessor.py\u001b[0m in \u001b[0;36m__get__\u001b[0;34m(self, obj, cls)\u001b[0m\n\u001b[1;32m    179\u001b[0m             \u001b[0;31m# we're accessing the attribute of the class, i.e., Dataset.geo\u001b[0m\u001b[0;34m\u001b[0m\u001b[0;34m\u001b[0m\u001b[0;34m\u001b[0m\u001b[0m\n\u001b[1;32m    180\u001b[0m             \u001b[0;32mreturn\u001b[0m \u001b[0mself\u001b[0m\u001b[0;34m.\u001b[0m\u001b[0m_accessor\u001b[0m\u001b[0;34m\u001b[0m\u001b[0;34m\u001b[0m\u001b[0m\n\u001b[0;32m--> 181\u001b[0;31m         \u001b[0maccessor_obj\u001b[0m \u001b[0;34m=\u001b[0m \u001b[0mself\u001b[0m\u001b[0;34m.\u001b[0m\u001b[0m_accessor\u001b[0m\u001b[0;34m(\u001b[0m\u001b[0mobj\u001b[0m\u001b[0;34m)\u001b[0m\u001b[0;34m\u001b[0m\u001b[0;34m\u001b[0m\u001b[0m\n\u001b[0m\u001b[1;32m    182\u001b[0m         \u001b[0;31m# Replace the property with the accessor object. Inspired by:\u001b[0m\u001b[0;34m\u001b[0m\u001b[0;34m\u001b[0m\u001b[0;34m\u001b[0m\u001b[0m\n\u001b[1;32m    183\u001b[0m         \u001b[0;31m# https://www.pydanny.com/cached-property.html\u001b[0m\u001b[0;34m\u001b[0m\u001b[0;34m\u001b[0m\u001b[0;34m\u001b[0m\u001b[0m\n",
            "\u001b[0;32m/usr/local/lib/python3.8/dist-packages/pandas/core/strings/accessor.py\u001b[0m in \u001b[0;36m__init__\u001b[0;34m(self, data)\u001b[0m\n\u001b[1;32m    166\u001b[0m         \u001b[0;32mfrom\u001b[0m \u001b[0mpandas\u001b[0m\u001b[0;34m.\u001b[0m\u001b[0mcore\u001b[0m\u001b[0;34m.\u001b[0m\u001b[0marrays\u001b[0m\u001b[0;34m.\u001b[0m\u001b[0mstring_\u001b[0m \u001b[0;32mimport\u001b[0m \u001b[0mStringDtype\u001b[0m\u001b[0;34m\u001b[0m\u001b[0;34m\u001b[0m\u001b[0m\n\u001b[1;32m    167\u001b[0m \u001b[0;34m\u001b[0m\u001b[0m\n\u001b[0;32m--> 168\u001b[0;31m         \u001b[0mself\u001b[0m\u001b[0;34m.\u001b[0m\u001b[0m_inferred_dtype\u001b[0m \u001b[0;34m=\u001b[0m \u001b[0mself\u001b[0m\u001b[0;34m.\u001b[0m\u001b[0m_validate\u001b[0m\u001b[0;34m(\u001b[0m\u001b[0mdata\u001b[0m\u001b[0;34m)\u001b[0m\u001b[0;34m\u001b[0m\u001b[0;34m\u001b[0m\u001b[0m\n\u001b[0m\u001b[1;32m    169\u001b[0m         \u001b[0mself\u001b[0m\u001b[0;34m.\u001b[0m\u001b[0m_is_categorical\u001b[0m \u001b[0;34m=\u001b[0m \u001b[0mis_categorical_dtype\u001b[0m\u001b[0;34m(\u001b[0m\u001b[0mdata\u001b[0m\u001b[0;34m.\u001b[0m\u001b[0mdtype\u001b[0m\u001b[0;34m)\u001b[0m\u001b[0;34m\u001b[0m\u001b[0;34m\u001b[0m\u001b[0m\n\u001b[1;32m    170\u001b[0m         \u001b[0mself\u001b[0m\u001b[0;34m.\u001b[0m\u001b[0m_is_string\u001b[0m \u001b[0;34m=\u001b[0m \u001b[0misinstance\u001b[0m\u001b[0;34m(\u001b[0m\u001b[0mdata\u001b[0m\u001b[0;34m.\u001b[0m\u001b[0mdtype\u001b[0m\u001b[0;34m,\u001b[0m \u001b[0mStringDtype\u001b[0m\u001b[0;34m)\u001b[0m\u001b[0;34m\u001b[0m\u001b[0;34m\u001b[0m\u001b[0m\n",
            "\u001b[0;32m/usr/local/lib/python3.8/dist-packages/pandas/core/strings/accessor.py\u001b[0m in \u001b[0;36m_validate\u001b[0;34m(data)\u001b[0m\n\u001b[1;32m    223\u001b[0m \u001b[0;34m\u001b[0m\u001b[0m\n\u001b[1;32m    224\u001b[0m         \u001b[0;32mif\u001b[0m \u001b[0minferred_dtype\u001b[0m \u001b[0;32mnot\u001b[0m \u001b[0;32min\u001b[0m \u001b[0mallowed_types\u001b[0m\u001b[0;34m:\u001b[0m\u001b[0;34m\u001b[0m\u001b[0;34m\u001b[0m\u001b[0m\n\u001b[0;32m--> 225\u001b[0;31m             \u001b[0;32mraise\u001b[0m \u001b[0mAttributeError\u001b[0m\u001b[0;34m(\u001b[0m\u001b[0;34m\"Can only use .str accessor with string values!\"\u001b[0m\u001b[0;34m)\u001b[0m\u001b[0;34m\u001b[0m\u001b[0;34m\u001b[0m\u001b[0m\n\u001b[0m\u001b[1;32m    226\u001b[0m         \u001b[0;32mreturn\u001b[0m \u001b[0minferred_dtype\u001b[0m\u001b[0;34m\u001b[0m\u001b[0;34m\u001b[0m\u001b[0m\n\u001b[1;32m    227\u001b[0m \u001b[0;34m\u001b[0m\u001b[0m\n",
            "\u001b[0;31mAttributeError\u001b[0m: Can only use .str accessor with string values!"
          ]
        }
      ],
      "source": [
        "reviews.text.str.lower().str.contains(\"definitivas\").value_counts()"
      ]
    },
    {
      "cell_type": "code",
      "execution_count": null,
      "metadata": {
        "id": "v474M54Hcl35"
      },
      "outputs": [],
      "source": [
        "cities = {\"gijon\":0.3}#, \"barcelona\":1.6, \"madrid\":2.1, \"newyorkcity\":8.3, \"paris\":8.9, \"london\":3.2} # Ciudades con su población\n",
        "stats = []\n",
        "\n",
        "for city in cities.keys():\n",
        "  data_path = f\"/content/drive/Shareddrives/DataSets/TripAdvisor/{city}/\"\n",
        "\n",
        "  reviews = pd.read_pickle(data_path+\"reviews.pkl\")\n",
        "  # restaurants = pd.read_pickle(data_path+\"restaurants.pkl\")\n",
        "  # users = pd.read_pickle(data_path+\"users.pkl\")\n",
        "\n",
        "  reviews[\"n_img\"] = reviews.images.apply(lambda x: len(x))\n",
        "\n",
        "  n_reviews = len(reviews.reviewId.unique())\n",
        "  n_images  = reviews.n_img.sum()\n",
        "  n_users = len(reviews.userId.unique())\n",
        "  n_rest = len(reviews.restaurantId.unique())\n",
        "\n",
        "  stats.append((f\"\\{city}\", cities[city], n_reviews, n_images, n_users, n_rest))\n",
        "\n",
        "  fotos_por_restaurante(reviews, data_path+city)\n",
        "  reviews_por_restaurante(reviews, data_path+city)\n",
        "\n",
        "stats = pd.DataFrame(stats, columns=[\"Conjunto\", \"Población\", \"Reseñas\", \"Imágenes\", \"Usuarios\", \"Restaurantes\"])\n",
        "print(stats.to_latex(index=False, escape=False))"
      ]
    },
    {
      "cell_type": "code",
      "execution_count": null,
      "metadata": {
        "id": "-Rr3LW-prSyn"
      },
      "outputs": [],
      "source": [
        "data = reviews.groupby(\"restaurantId\").n_img.sum().reset_index()\n",
        "data.loc[data.n_img>=20, \"n_img\"]=20\n",
        "\n",
        "histo = sbs.histplot(data, x=\"n_img\", kde=False, bins=range(1,22,1));\n",
        "histo.set_xticks(np.arange(1,21,1)+.5); # Etiquetas del eje X\n",
        "labels = list(map(str,range(1,20)))+[\"≥20\"]\n",
        "histo.set_xticklabels(labels)\n",
        "histo.set_xlabel(\"Número de fotos\")\n",
        "histo.set_ylabel(\"Número de restaurantes\")\n",
        "plt.tight_layout()\n"
      ]
    },
    {
      "cell_type": "code",
      "execution_count": null,
      "metadata": {
        "id": "q6SFtKZEs44b"
      },
      "outputs": [],
      "source": [
        "# Datos para Bea (con menos columnas)\n",
        "data_sm = reviews[[\"reviewId\", \"userId\", \"restaurantId\", \"date\", \"images\", \"rating\", \"url\"]]\n",
        "data_sm.to_pickle(data_path+\"reviews_sm.pkl\")\n"
      ]
    }
  ],
  "metadata": {
    "accelerator": "GPU",
    "colab": {
      "provenance": []
    },
    "gpuClass": "standard",
    "kernelspec": {
      "display_name": "TripAdvisorDownload",
      "language": "python",
      "name": "python3"
    },
    "language_info": {
      "codemirror_mode": {
        "name": "ipython",
        "version": 3
      },
      "file_extension": ".py",
      "mimetype": "text/x-python",
      "name": "python",
      "nbconvert_exporter": "python",
      "pygments_lexer": "ipython3",
      "version": "3.9.16"
    },
    "vscode": {
      "interpreter": {
        "hash": "eb68e0df4161cb8dc37516e6aea623a9b9a1614133aeb2a8de715ef8698469ea"
      }
    }
  },
  "nbformat": 4,
  "nbformat_minor": 0
}
